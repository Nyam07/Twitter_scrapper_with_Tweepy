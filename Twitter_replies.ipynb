{
 "cells": [
  {
   "cell_type": "code",
   "execution_count": 2,
   "id": "57804251",
   "metadata": {},
   "outputs": [],
   "source": [
    "import tweepy\n",
    "import pandas as pd"
   ]
  },
  {
   "cell_type": "code",
   "execution_count": 7,
   "id": "25c9f255",
   "metadata": {},
   "outputs": [],
   "source": [
    "# read the keys from the file \n",
    "keys = []\n",
    "with open('../Keys.txt') as f:\n",
    "    for line in f:\n",
    "        keys.append(line.strip())\n",
    "\n",
    "API_KEY = keys[1]\n",
    "API_KEY_SECRET = keys [4]\n",
    "ACCESS_TOKEN = keys[10]\n",
    "ACCESS_TOKEN_SECRET = keys[13]"
   ]
  },
  {
   "cell_type": "code",
   "execution_count": 8,
   "id": "27638d78",
   "metadata": {},
   "outputs": [],
   "source": [
    "# initialize the api\n",
    "auth = tweepy.OAuthHandler(API_KEY, API_KEY_SECRET)\n",
    "auth.set_access_token(ACCESS_TOKEN, ACCESS_TOKEN_SECRET)\n",
    "api = tweepy.API(auth)"
   ]
  },
  {
   "cell_type": "code",
   "execution_count": 19,
   "id": "8d4ddd79",
   "metadata": {},
   "outputs": [
    {
     "name": "stdout",
     "output_type": "stream",
     "text": [
      "Paste the tweet url: https://twitter.com/kipmurkomen/status/1493180612022353920\n",
      "Enter the filename for storing the tweets: murkomen_1\n"
     ]
    }
   ],
   "source": [
    "# get the name and the tweet id from the url\n",
    "url = input(\"Paste the tweet url: \")\n",
    "filename = input(\"Enter the filename for storing the tweets: \")\n",
    "name = url.split(\"/\")[-3]\n",
    "tweet_id = url.split(\"/\")[-1]\n",
    "\n",
    "#empty list for the replies\n",
    "replies = []"
   ]
  },
  {
   "cell_type": "code",
   "execution_count": 20,
   "id": "69ee9e6e",
   "metadata": {},
   "outputs": [],
   "source": [
    "# get replies from the tweet\n",
    "for tweet in tweepy.Cursor(api.search_tweets,q='to:'+name, result_type='recent').items(1000):\n",
    "    if hasattr(tweet, 'in_reply_to_status_id_str'):\n",
    "        if (tweet.in_reply_to_status_id_str==tweet_id):\n",
    "            replies.append(tweet)"
   ]
  },
  {
   "cell_type": "code",
   "execution_count": 21,
   "id": "c554c22b",
   "metadata": {},
   "outputs": [
    {
     "name": "stdout",
     "output_type": "stream",
     "text": [
      "['__class__', '__delattr__', '__dict__', '__dir__', '__doc__', '__eq__', '__format__', '__ge__', '__getattribute__', '__getstate__', '__gt__', '__hash__', '__init__', '__init_subclass__', '__le__', '__lt__', '__module__', '__ne__', '__new__', '__reduce__', '__reduce_ex__', '__repr__', '__setattr__', '__sizeof__', '__slots__', '__str__', '__subclasshook__', '__weakref__', '_api', '_json', 'author', 'contributors', 'coordinates', 'created_at', 'destroy', 'entities', 'favorite', 'favorite_count', 'favorited', 'geo', 'id', 'id_str', 'in_reply_to_screen_name', 'in_reply_to_status_id', 'in_reply_to_status_id_str', 'in_reply_to_user_id', 'in_reply_to_user_id_str', 'is_quote_status', 'lang', 'metadata', 'parse', 'parse_list', 'place', 'retweet', 'retweet_count', 'retweeted', 'retweets', 'source', 'source_url', 'text', 'truncated', 'user']\n"
     ]
    }
   ],
   "source": [
    "#show the attributes \n",
    "print(dir(replies[0]))\n",
    "\n",
    "#master list to hold all the data needed\n",
    "master_list = []"
   ]
  },
  {
   "cell_type": "code",
   "execution_count": 22,
   "id": "ac2890b5",
   "metadata": {},
   "outputs": [],
   "source": [
    "for reply in replies:\n",
    "    data_dict = {}\n",
    "    data_dict[\"User\"] = reply.author.screen_name\n",
    "    data_dict[\"Reply\"] = reply.text\n",
    "    data_dict[\"Likes\"] = reply.favorite_count\n",
    "    data_dict[\"Retweets\"] = reply.retweet_count\n",
    "    \n",
    "    master_list.append(data_dict)"
   ]
  },
  {
   "cell_type": "code",
   "execution_count": 23,
   "id": "2bf17599",
   "metadata": {},
   "outputs": [
    {
     "data": {
      "text/html": [
       "<div>\n",
       "<style scoped>\n",
       "    .dataframe tbody tr th:only-of-type {\n",
       "        vertical-align: middle;\n",
       "    }\n",
       "\n",
       "    .dataframe tbody tr th {\n",
       "        vertical-align: top;\n",
       "    }\n",
       "\n",
       "    .dataframe thead th {\n",
       "        text-align: right;\n",
       "    }\n",
       "</style>\n",
       "<table border=\"1\" class=\"dataframe\">\n",
       "  <thead>\n",
       "    <tr style=\"text-align: right;\">\n",
       "      <th></th>\n",
       "      <th>User</th>\n",
       "      <th>Reply</th>\n",
       "      <th>Likes</th>\n",
       "      <th>Retweets</th>\n",
       "    </tr>\n",
       "  </thead>\n",
       "  <tbody>\n",
       "    <tr>\n",
       "      <th>0</th>\n",
       "      <td>k_njokerio</td>\n",
       "      <td>@kipmurkomen Tumko Imara ndani ya Azimio. Rail...</td>\n",
       "      <td>0</td>\n",
       "      <td>0</td>\n",
       "    </tr>\n",
       "    <tr>\n",
       "      <th>1</th>\n",
       "      <td>johnoku38852427</td>\n",
       "      <td>@kipmurkomen I just look at the hate in you an...</td>\n",
       "      <td>0</td>\n",
       "      <td>0</td>\n",
       "    </tr>\n",
       "    <tr>\n",
       "      <th>2</th>\n",
       "      <td>mokeira_becky</td>\n",
       "      <td>@kipmurkomen Hypocrisy!!\\nIf president Uhuru w...</td>\n",
       "      <td>0</td>\n",
       "      <td>0</td>\n",
       "    </tr>\n",
       "    <tr>\n",
       "      <th>3</th>\n",
       "      <td>mcowinodave</td>\n",
       "      <td>@kipmurkomen Amka sasa ukojoe mheshimiwa😂😂</td>\n",
       "      <td>0</td>\n",
       "      <td>0</td>\n",
       "    </tr>\n",
       "    <tr>\n",
       "      <th>4</th>\n",
       "      <td>LeonSakwa</td>\n",
       "      <td>@kipmurkomen They way people think ODM is a lu...</td>\n",
       "      <td>0</td>\n",
       "      <td>0</td>\n",
       "    </tr>\n",
       "    <tr>\n",
       "      <th>...</th>\n",
       "      <td>...</td>\n",
       "      <td>...</td>\n",
       "      <td>...</td>\n",
       "      <td>...</td>\n",
       "    </tr>\n",
       "    <tr>\n",
       "      <th>836</th>\n",
       "      <td>Makaobora</td>\n",
       "      <td>@kipmurkomen UDA getting all obsessed with UK ...</td>\n",
       "      <td>0</td>\n",
       "      <td>0</td>\n",
       "    </tr>\n",
       "    <tr>\n",
       "      <th>837</th>\n",
       "      <td>Soogum2</td>\n",
       "      <td>@kipmurkomen Raila is seeking to be the 5th pr...</td>\n",
       "      <td>1</td>\n",
       "      <td>0</td>\n",
       "    </tr>\n",
       "    <tr>\n",
       "      <th>838</th>\n",
       "      <td>KinaroM</td>\n",
       "      <td>@kipmurkomen Can someone open the servers such...</td>\n",
       "      <td>1</td>\n",
       "      <td>0</td>\n",
       "    </tr>\n",
       "    <tr>\n",
       "      <th>839</th>\n",
       "      <td>KenKennah7</td>\n",
       "      <td>@kipmurkomen Why are you crying more than the ...</td>\n",
       "      <td>0</td>\n",
       "      <td>0</td>\n",
       "    </tr>\n",
       "    <tr>\n",
       "      <th>840</th>\n",
       "      <td>PaulOny98038951</td>\n",
       "      <td>@kipmurkomen DESPERATE SOULS!</td>\n",
       "      <td>1</td>\n",
       "      <td>0</td>\n",
       "    </tr>\n",
       "  </tbody>\n",
       "</table>\n",
       "<p>841 rows × 4 columns</p>\n",
       "</div>"
      ],
      "text/plain": [
       "                User                                              Reply  \\\n",
       "0         k_njokerio  @kipmurkomen Tumko Imara ndani ya Azimio. Rail...   \n",
       "1    johnoku38852427  @kipmurkomen I just look at the hate in you an...   \n",
       "2      mokeira_becky  @kipmurkomen Hypocrisy!!\\nIf president Uhuru w...   \n",
       "3        mcowinodave         @kipmurkomen Amka sasa ukojoe mheshimiwa😂😂   \n",
       "4          LeonSakwa  @kipmurkomen They way people think ODM is a lu...   \n",
       "..               ...                                                ...   \n",
       "836        Makaobora  @kipmurkomen UDA getting all obsessed with UK ...   \n",
       "837          Soogum2  @kipmurkomen Raila is seeking to be the 5th pr...   \n",
       "838          KinaroM  @kipmurkomen Can someone open the servers such...   \n",
       "839       KenKennah7  @kipmurkomen Why are you crying more than the ...   \n",
       "840  PaulOny98038951                      @kipmurkomen DESPERATE SOULS!   \n",
       "\n",
       "     Likes  Retweets  \n",
       "0        0         0  \n",
       "1        0         0  \n",
       "2        0         0  \n",
       "3        0         0  \n",
       "4        0         0  \n",
       "..     ...       ...  \n",
       "836      0         0  \n",
       "837      1         0  \n",
       "838      1         0  \n",
       "839      0         0  \n",
       "840      1         0  \n",
       "\n",
       "[841 rows x 4 columns]"
      ]
     },
     "execution_count": 23,
     "metadata": {},
     "output_type": "execute_result"
    }
   ],
   "source": [
    "# add to a dataframe\n",
    "df = pd.DataFrame(master_list)\n",
    "df"
   ]
  },
  {
   "cell_type": "markdown",
   "id": "c0467214",
   "metadata": {},
   "source": [
    "## save to a csv file"
   ]
  },
  {
   "cell_type": "code",
   "execution_count": 24,
   "id": "9533d410",
   "metadata": {},
   "outputs": [],
   "source": [
    "df.to_csv(filename + \".csv\", index = False)"
   ]
  },
  {
   "cell_type": "code",
   "execution_count": null,
   "id": "77653e61",
   "metadata": {},
   "outputs": [],
   "source": []
  }
 ],
 "metadata": {
  "kernelspec": {
   "display_name": "Python 3 (ipykernel)",
   "language": "python",
   "name": "python3"
  },
  "language_info": {
   "codemirror_mode": {
    "name": "ipython",
    "version": 3
   },
   "file_extension": ".py",
   "mimetype": "text/x-python",
   "name": "python",
   "nbconvert_exporter": "python",
   "pygments_lexer": "ipython3",
   "version": "3.9.5"
  }
 },
 "nbformat": 4,
 "nbformat_minor": 5
}
