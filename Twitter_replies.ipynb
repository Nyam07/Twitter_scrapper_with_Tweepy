{
 "cells": [
  {
   "cell_type": "code",
   "execution_count": 1,
   "id": "57804251",
   "metadata": {},
   "outputs": [],
   "source": [
    "import tweepy\n",
    "import pandas as pd"
   ]
  },
  {
   "cell_type": "code",
   "execution_count": 2,
   "id": "25c9f255",
   "metadata": {},
   "outputs": [],
   "source": [
    "# read the keys from the file \n",
    "keys = []\n",
    "with open('Keys.txt') as f:\n",
    "    for line in f:\n",
    "        keys.append(line.strip())\n",
    "\n",
    "API_KEY = keys[1]\n",
    "API_KEY_SECRET = keys [4]\n",
    "ACCESS_TOKEN = keys[10]\n",
    "ACCESS_TOKEN_SECRET = keys[13]"
   ]
  },
  {
   "cell_type": "code",
   "execution_count": 3,
   "id": "27638d78",
   "metadata": {},
   "outputs": [],
   "source": [
    "# initialize the api\n",
    "auth = tweepy.OAuthHandler(API_KEY, API_KEY_SECRET)\n",
    "auth.set_access_token(ACCESS_TOKEN, ACCESS_TOKEN_SECRET)\n",
    "api = tweepy.API(auth)"
   ]
  },
  {
   "cell_type": "code",
   "execution_count": 4,
   "id": "8d4ddd79",
   "metadata": {},
   "outputs": [],
   "source": [
    "# get the name and the tweet id from the url\n",
    "url = \"https://twitter.com/StandardKenya/status/1492470931926700038\"\n",
    "name = url.split(\"/\")[-3]\n",
    "tweet_id = url.split(\"/\")[-1]\n",
    "\n",
    "#empty list for the replies\n",
    "replies = []"
   ]
  },
  {
   "cell_type": "code",
   "execution_count": 5,
   "id": "69ee9e6e",
   "metadata": {},
   "outputs": [],
   "source": [
    "# get replies from the tweet\n",
    "for tweet in tweepy.Cursor(api.search_tweets,q='to:'+name, result_type='recent').items(1000):\n",
    "    if hasattr(tweet, 'in_reply_to_status_id_str'):\n",
    "        if (tweet.in_reply_to_status_id_str==tweet_id):\n",
    "            replies.append(tweet)"
   ]
  },
  {
   "cell_type": "code",
   "execution_count": 22,
   "id": "c554c22b",
   "metadata": {},
   "outputs": [
    {
     "name": "stdout",
     "output_type": "stream",
     "text": [
      "['__class__', '__delattr__', '__dict__', '__dir__', '__doc__', '__eq__', '__format__', '__ge__', '__getattribute__', '__getstate__', '__gt__', '__hash__', '__init__', '__init_subclass__', '__le__', '__lt__', '__module__', '__ne__', '__new__', '__reduce__', '__reduce_ex__', '__repr__', '__setattr__', '__sizeof__', '__slots__', '__str__', '__subclasshook__', '__weakref__', '_api', '_json', 'author', 'contributors', 'coordinates', 'created_at', 'destroy', 'entities', 'favorite', 'favorite_count', 'favorited', 'geo', 'id', 'id_str', 'in_reply_to_screen_name', 'in_reply_to_status_id', 'in_reply_to_status_id_str', 'in_reply_to_user_id', 'in_reply_to_user_id_str', 'is_quote_status', 'lang', 'metadata', 'parse', 'parse_list', 'place', 'retweet', 'retweet_count', 'retweeted', 'retweets', 'source', 'source_url', 'text', 'truncated', 'user']\n"
     ]
    }
   ],
   "source": [
    "#show the attributes \n",
    "print(dir(replies[0]))\n",
    "\n",
    "#master list to hold all the data needed\n",
    "master_list = []"
   ]
  },
  {
   "cell_type": "code",
   "execution_count": 23,
   "id": "ac2890b5",
   "metadata": {},
   "outputs": [],
   "source": [
    "for reply in replies:\n",
    "    data_dict = {}\n",
    "    data_dict[\"User\"] = reply.author.screen_name\n",
    "    data_dict[\"Reply\"] = reply.text\n",
    "    data_dict[\"Likes\"] = reply.favorite_count\n",
    "    data_dict[\"Retweets\"] = reply.retweet_count\n",
    "    \n",
    "    master_list.append(data_dict)"
   ]
  },
  {
   "cell_type": "code",
   "execution_count": 25,
   "id": "2bf17599",
   "metadata": {},
   "outputs": [
    {
     "data": {
      "text/html": [
       "<div>\n",
       "<style scoped>\n",
       "    .dataframe tbody tr th:only-of-type {\n",
       "        vertical-align: middle;\n",
       "    }\n",
       "\n",
       "    .dataframe tbody tr th {\n",
       "        vertical-align: top;\n",
       "    }\n",
       "\n",
       "    .dataframe thead th {\n",
       "        text-align: right;\n",
       "    }\n",
       "</style>\n",
       "<table border=\"1\" class=\"dataframe\">\n",
       "  <thead>\n",
       "    <tr style=\"text-align: right;\">\n",
       "      <th></th>\n",
       "      <th>User</th>\n",
       "      <th>Reply</th>\n",
       "      <th>Likes</th>\n",
       "      <th>Retweets</th>\n",
       "    </tr>\n",
       "  </thead>\n",
       "  <tbody>\n",
       "    <tr>\n",
       "      <th>0</th>\n",
       "      <td>Governorjaymo</td>\n",
       "      <td>@StandardKenya Perfect the president we need t...</td>\n",
       "      <td>0</td>\n",
       "      <td>0</td>\n",
       "    </tr>\n",
       "    <tr>\n",
       "      <th>1</th>\n",
       "      <td>MNyabende</td>\n",
       "      <td>@StandardKenya Is presidential candidature thi...</td>\n",
       "      <td>0</td>\n",
       "      <td>0</td>\n",
       "    </tr>\n",
       "    <tr>\n",
       "      <th>2</th>\n",
       "      <td>yours_sincereIy</td>\n",
       "      <td>@StandardKenya Finally we got someone who's se...</td>\n",
       "      <td>0</td>\n",
       "      <td>0</td>\n",
       "    </tr>\n",
       "    <tr>\n",
       "      <th>3</th>\n",
       "      <td>KiumbeSammy</td>\n",
       "      <td>@StandardKenya Look  for another country not k...</td>\n",
       "      <td>0</td>\n",
       "      <td>0</td>\n",
       "    </tr>\n",
       "    <tr>\n",
       "      <th>4</th>\n",
       "      <td>binraccooon</td>\n",
       "      <td>@StandardKenya https://t.co/9AqYnLtCEs</td>\n",
       "      <td>0</td>\n",
       "      <td>0</td>\n",
       "    </tr>\n",
       "    <tr>\n",
       "      <th>...</th>\n",
       "      <td>...</td>\n",
       "      <td>...</td>\n",
       "      <td>...</td>\n",
       "      <td>...</td>\n",
       "    </tr>\n",
       "    <tr>\n",
       "      <th>504</th>\n",
       "      <td>EngWilly1</td>\n",
       "      <td>@StandardKenya Karibu Kenyaaa!! tuna style yet...</td>\n",
       "      <td>0</td>\n",
       "      <td>0</td>\n",
       "    </tr>\n",
       "    <tr>\n",
       "      <th>505</th>\n",
       "      <td>_fels1</td>\n",
       "      <td>@StandardKenya Your Highness Wajackoyah the 5th!</td>\n",
       "      <td>714</td>\n",
       "      <td>70</td>\n",
       "    </tr>\n",
       "    <tr>\n",
       "      <th>506</th>\n",
       "      <td>gismwas</td>\n",
       "      <td>@StandardKenya Man has solid credentials and a...</td>\n",
       "      <td>0</td>\n",
       "      <td>0</td>\n",
       "    </tr>\n",
       "    <tr>\n",
       "      <th>507</th>\n",
       "      <td>RianKise</td>\n",
       "      <td>@StandardKenya This is high on another level😅</td>\n",
       "      <td>0</td>\n",
       "      <td>0</td>\n",
       "    </tr>\n",
       "    <tr>\n",
       "      <th>508</th>\n",
       "      <td>MogwedhiC</td>\n",
       "      <td>@StandardKenya Kwani amevuta bangi?</td>\n",
       "      <td>1</td>\n",
       "      <td>0</td>\n",
       "    </tr>\n",
       "  </tbody>\n",
       "</table>\n",
       "<p>509 rows × 4 columns</p>\n",
       "</div>"
      ],
      "text/plain": [
       "                User                                              Reply  \\\n",
       "0      Governorjaymo  @StandardKenya Perfect the president we need t...   \n",
       "1          MNyabende  @StandardKenya Is presidential candidature thi...   \n",
       "2    yours_sincereIy  @StandardKenya Finally we got someone who's se...   \n",
       "3        KiumbeSammy  @StandardKenya Look  for another country not k...   \n",
       "4        binraccooon             @StandardKenya https://t.co/9AqYnLtCEs   \n",
       "..               ...                                                ...   \n",
       "504        EngWilly1  @StandardKenya Karibu Kenyaaa!! tuna style yet...   \n",
       "505           _fels1   @StandardKenya Your Highness Wajackoyah the 5th!   \n",
       "506          gismwas  @StandardKenya Man has solid credentials and a...   \n",
       "507         RianKise      @StandardKenya This is high on another level😅   \n",
       "508        MogwedhiC                @StandardKenya Kwani amevuta bangi?   \n",
       "\n",
       "     Likes  Retweets  \n",
       "0        0         0  \n",
       "1        0         0  \n",
       "2        0         0  \n",
       "3        0         0  \n",
       "4        0         0  \n",
       "..     ...       ...  \n",
       "504      0         0  \n",
       "505    714        70  \n",
       "506      0         0  \n",
       "507      0         0  \n",
       "508      1         0  \n",
       "\n",
       "[509 rows x 4 columns]"
      ]
     },
     "execution_count": 25,
     "metadata": {},
     "output_type": "execute_result"
    }
   ],
   "source": [
    "# add to a dataframe\n",
    "df = pd.DataFrame(master_list)\n",
    "df"
   ]
  },
  {
   "cell_type": "code",
   "execution_count": 26,
   "id": "59164132",
   "metadata": {},
   "outputs": [],
   "source": []
  },
  {
   "cell_type": "code",
   "execution_count": 27,
   "id": "9533d410",
   "metadata": {},
   "outputs": [],
   "source": []
  },
  {
   "cell_type": "code",
   "execution_count": null,
   "id": "77653e61",
   "metadata": {},
   "outputs": [],
   "source": []
  }
 ],
 "metadata": {
  "kernelspec": {
   "display_name": "Python 3 (ipykernel)",
   "language": "python",
   "name": "python3"
  },
  "language_info": {
   "codemirror_mode": {
    "name": "ipython",
    "version": 3
   },
   "file_extension": ".py",
   "mimetype": "text/x-python",
   "name": "python",
   "nbconvert_exporter": "python",
   "pygments_lexer": "ipython3",
   "version": "3.9.5"
  }
 },
 "nbformat": 4,
 "nbformat_minor": 5
}
